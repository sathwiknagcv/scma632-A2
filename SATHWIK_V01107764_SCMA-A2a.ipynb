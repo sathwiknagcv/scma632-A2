{
 "cells": [
  {
   "cell_type": "code",
   "execution_count": 1,
   "id": "4c5b3c2f",
   "metadata": {},
   "outputs": [
    {
     "name": "stdout",
     "output_type": "stream",
     "text": [
      "Requirement already satisfied: pandas in c:\\users\\admin\\anaconda3\\lib\\site-packages (2.0.3)\n",
      "Requirement already satisfied: numpy in c:\\users\\admin\\anaconda3\\lib\\site-packages (1.24.3)\n",
      "Requirement already satisfied: statsmodels in c:\\users\\admin\\anaconda3\\lib\\site-packages (0.14.0)\n",
      "Requirement already satisfied: scikit-learn in c:\\users\\admin\\anaconda3\\lib\\site-packages (1.3.0)\n",
      "Requirement already satisfied: python-dateutil>=2.8.2 in c:\\users\\admin\\anaconda3\\lib\\site-packages (from pandas) (2.8.2)\n",
      "Requirement already satisfied: pytz>=2020.1 in c:\\users\\admin\\anaconda3\\lib\\site-packages (from pandas) (2023.3.post1)\n",
      "Requirement already satisfied: tzdata>=2022.1 in c:\\users\\admin\\anaconda3\\lib\\site-packages (from pandas) (2023.3)\n",
      "Requirement already satisfied: scipy!=1.9.2,>=1.4 in c:\\users\\admin\\anaconda3\\lib\\site-packages (from statsmodels) (1.11.1)\n",
      "Requirement already satisfied: patsy>=0.5.2 in c:\\users\\admin\\anaconda3\\lib\\site-packages (from statsmodels) (0.5.3)\n",
      "Requirement already satisfied: packaging>=21.3 in c:\\users\\admin\\anaconda3\\lib\\site-packages (from statsmodels) (23.1)\n",
      "Requirement already satisfied: joblib>=1.1.1 in c:\\users\\admin\\anaconda3\\lib\\site-packages (from scikit-learn) (1.2.0)\n",
      "Requirement already satisfied: threadpoolctl>=2.0.0 in c:\\users\\admin\\anaconda3\\lib\\site-packages (from scikit-learn) (2.2.0)\n",
      "Requirement already satisfied: six in c:\\users\\admin\\anaconda3\\lib\\site-packages (from patsy>=0.5.2->statsmodels) (1.16.0)\n",
      "Note: you may need to restart the kernel to use updated packages.\n"
     ]
    }
   ],
   "source": [
    "pip install pandas numpy statsmodels scikit-learn"
   ]
  },
  {
   "cell_type": "code",
   "execution_count": 2,
   "id": "f6e4480c",
   "metadata": {},
   "outputs": [],
   "source": [
    "import pandas as pd\n",
    "import numpy as np\n",
    "from statsmodels.formula.api import ols\n",
    "from statsmodels.stats.outliers_influence import variance_inflation_factor\n",
    "import statsmodels.api as sm"
   ]
  },
  {
   "cell_type": "code",
   "execution_count": 6,
   "id": "6e18160c",
   "metadata": {},
   "outputs": [
    {
     "name": "stderr",
     "output_type": "stream",
     "text": [
      "C:\\Users\\Admin\\AppData\\Local\\Temp\\ipykernel_23932\\3439043763.py:7: DtypeWarning: Columns (1) have mixed types. Specify dtype option on import or set low_memory=False.\n",
      "  data = pd.read_csv('C:\\\\Users\\\\Admin\\\\Downloads\\\\Bootcamp Assignement\\\\NSSO68.csv')\n"
     ]
    }
   ],
   "source": [
    "# Set working directory (uncomment and modify the path as needed)\n",
    "# import os\n",
    "#os.chdir('')\n",
    "#print(os.getcwd())\n",
    "\n",
    "# Load the dataset\n",
    "data = pd.read_csv('C:\\\\Users\\\\Admin\\\\Downloads\\\\Bootcamp Assignement\\\\NSSO68.csv')"
   ]
  },
  {
   "cell_type": "code",
   "execution_count": 7,
   "id": "75085229",
   "metadata": {},
   "outputs": [
    {
     "name": "stdout",
     "output_type": "stream",
     "text": [
      "['GUJ' 'ORI' 'CHTSD' 'MP' 'JRKD' 'WB' 'AP' 'MH' 'D&D' 'D&NH' 'MIZ' 'TRPR'\n",
      " 'MANPR' 'ASSM' 'MEG' 'NAG' 'A&N' 'PNDCRY' 'TN' 'GOA' 'KA' 'KE' 'LKSDP'\n",
      " 'SKM' 'Bhr' 'UP' 'RJ' 'ARP' 'DL' 'HR' 'Pun' 'HP' 'UT' 'Chandr' 'J$K']\n"
     ]
    }
   ],
   "source": [
    "# Unique states\n",
    "print(data['state_1'].unique())"
   ]
  },
  {
   "cell_type": "code",
   "execution_count": 8,
   "id": "ca1de483",
   "metadata": {},
   "outputs": [
    {
     "name": "stdout",
     "output_type": "stream",
     "text": [
      "       foodtotal_q  MPCE_MRP  MPCE_URP  Age  Meals_At_Home  \\\n",
      "22949    26.850600   8191.46   8381.25   56           58.0   \n",
      "22950    35.625493   4674.52   4615.00   80           60.0   \n",
      "22951    22.575320   2874.58   2575.50   42           60.0   \n",
      "22952    25.967018   3240.10   3021.33   54           60.0   \n",
      "22953    22.420334   2688.08   2790.00   28           60.0   \n",
      "\n",
      "       Possess_ration_card  Education  No_of_Meals_per_day  \n",
      "22949                  1.0       12.0                  2.0  \n",
      "22950                  1.0       10.0                  2.0  \n",
      "22951                  1.0       10.0                  2.0  \n",
      "22952                  1.0       10.0                  2.0  \n",
      "22953                  1.0       12.0                  2.0  \n"
     ]
    }
   ],
   "source": [
    "# Subset data to state assigned\n",
    "subset_data = data[data['state_1'] == 'GOA'][['foodtotal_q', 'MPCE_MRP', 'MPCE_URP', 'Age', 'Meals_At_Home', 'Possess_ration_card', 'Education', 'No_of_Meals_per_day']]\n",
    "print(subset_data.head())"
   ]
  },
  {
   "cell_type": "code",
   "execution_count": 9,
   "id": "b02b0a88",
   "metadata": {},
   "outputs": [
    {
     "name": "stdout",
     "output_type": "stream",
     "text": [
      "0\n",
      "0\n",
      "0\n",
      "0\n",
      "7\n"
     ]
    }
   ],
   "source": [
    "# Check for missing values\n",
    "print(subset_data['MPCE_MRP'].isna().sum())\n",
    "print(subset_data['MPCE_URP'].isna().sum())\n",
    "print(subset_data['Age'].isna().sum())\n",
    "print(subset_data['Possess_ration_card'].isna().sum())\n",
    "print(data['Education'].isna().sum())"
   ]
  },
  {
   "cell_type": "code",
   "execution_count": 10,
   "id": "f673732b",
   "metadata": {},
   "outputs": [
    {
     "name": "stdout",
     "output_type": "stream",
     "text": [
      "0\n"
     ]
    }
   ],
   "source": [
    "# Impute missing values with mean\n",
    "subset_data['Education'].fillna(subset_data['Education'].mean(), inplace=True)\n",
    "print(subset_data['Education'].isna().sum())"
   ]
  },
  {
   "cell_type": "code",
   "execution_count": 18,
   "id": "3c3b1bd1",
   "metadata": {},
   "outputs": [
    {
     "name": "stdout",
     "output_type": "stream",
     "text": [
      "foodtotal_q            0\n",
      "MPCE_MRP               0\n",
      "MPCE_URP               0\n",
      "Age                    0\n",
      "Meals_At_Home          0\n",
      "Possess_ration_card    0\n",
      "Education              0\n",
      "No_of_Meals_per_day    0\n",
      "dtype: int64\n"
     ]
    }
   ],
   "source": [
    "# Drop any remaining rows with missing values in the selected columns\n",
    "subset_data = subset_data.dropna(subset=['foodtotal_q', 'MPCE_MRP', 'MPCE_URP', 'Age', 'Meals_At_Home', 'Possess_ration_card', 'Education'])\n",
    "print(subset_data.isna().sum())"
   ]
  },
  {
   "cell_type": "code",
   "execution_count": 19,
   "id": "8ea0bccb",
   "metadata": {},
   "outputs": [],
   "source": [
    "# Fit the regression model\n",
    "model = ols('foodtotal_q ~ MPCE_MRP + MPCE_URP + Age + Meals_At_Home + Possess_ration_card + Education', data=subset_data).fit()"
   ]
  },
  {
   "cell_type": "code",
   "execution_count": 12,
   "id": "289b5d8b",
   "metadata": {},
   "outputs": [
    {
     "name": "stdout",
     "output_type": "stream",
     "text": [
      "                            OLS Regression Results                            \n",
      "==============================================================================\n",
      "Dep. Variable:            foodtotal_q   R-squared:                       0.286\n",
      "Model:                            OLS   Adj. R-squared:                  0.277\n",
      "Method:                 Least Squares   F-statistic:                     29.31\n",
      "Date:                Sun, 23 Jun 2024   Prob (F-statistic):           1.60e-29\n",
      "Time:                        20:52:19   Log-Likelihood:                -1396.0\n",
      "No. Observations:                 445   AIC:                             2806.\n",
      "Df Residuals:                     438   BIC:                             2835.\n",
      "Df Model:                           6                                         \n",
      "Covariance Type:            nonrobust                                         \n",
      "=======================================================================================\n",
      "                          coef    std err          t      P>|t|      [0.025      0.975]\n",
      "---------------------------------------------------------------------------------------\n",
      "Intercept               9.6802      3.891      2.488      0.013       2.033      17.328\n",
      "MPCE_MRP                0.0019      0.000      7.703      0.000       0.001       0.002\n",
      "MPCE_URP               -0.0001      0.000     -0.725      0.469      -0.000       0.000\n",
      "Age                     0.0038      0.023      0.163      0.871      -0.042       0.050\n",
      "Meals_At_Home           0.1296      0.051      2.520      0.012       0.029       0.231\n",
      "Possess_ration_card    -2.2873      1.379     -1.658      0.098      -4.998       0.423\n",
      "Education               0.2469      0.093      2.649      0.008       0.064       0.430\n",
      "==============================================================================\n",
      "Omnibus:                       42.314   Durbin-Watson:                   1.685\n",
      "Prob(Omnibus):                  0.000   Jarque-Bera (JB):              122.715\n",
      "Skew:                           0.423   Prob(JB):                     2.25e-27\n",
      "Kurtosis:                       5.429   Cond. No.                     7.72e+04\n",
      "==============================================================================\n",
      "\n",
      "Notes:\n",
      "[1] Standard Errors assume that the covariance matrix of the errors is correctly specified.\n",
      "[2] The condition number is large, 7.72e+04. This might indicate that there are\n",
      "strong multicollinearity or other numerical problems.\n"
     ]
    }
   ],
   "source": [
    "# Print the regression results\n",
    "print(model.summary())"
   ]
  },
  {
   "cell_type": "code",
   "execution_count": 21,
   "id": "4af3eae3",
   "metadata": {},
   "outputs": [
    {
     "name": "stdout",
     "output_type": "stream",
     "text": [
      "               feature         VIF\n",
      "0                const  213.483072\n",
      "1             MPCE_MRP    2.893338\n",
      "2             MPCE_URP    2.675995\n",
      "3                  Age    1.338726\n",
      "4        Meals_At_Home    1.171905\n",
      "5  Possess_ration_card    1.096270\n",
      "6            Education    1.376191\n"
     ]
    }
   ],
   "source": [
    "# Check for multicollinearity using Variance Inflation Factor (VIF)\n",
    "X = subset_data[['MPCE_MRP', 'MPCE_URP', 'Age', 'Meals_At_Home', 'Possess_ration_card', 'Education']]\n",
    "X = sm.add_constant(X)\n",
    "vif_data = pd.DataFrame()\n",
    "vif_data[\"feature\"] = X.columns\n",
    "vif_data[\"VIF\"] = [variance_inflation_factor(X.values, i) for i in range(X.shape[1])]\n",
    "print(vif_data)"
   ]
  },
  {
   "cell_type": "code",
   "execution_count": 22,
   "id": "a3cbf3aa",
   "metadata": {},
   "outputs": [],
   "source": [
    "# Extract the coefficients from the model\n",
    "coefficients = model.params"
   ]
  },
  {
   "cell_type": "code",
   "execution_count": 23,
   "id": "5828e4a4",
   "metadata": {},
   "outputs": [
    {
     "name": "stdout",
     "output_type": "stream",
     "text": [
      "y = 9.68 + 0.001879*x1 + -0.000122*x2 + 0.003818*x3 + 0.129623*x4 + -2.28727*x5 + 0.246891*x6\n"
     ]
    }
   ],
   "source": [
    "# Construct the equation\n",
    "equation = f\"y = {round(coefficients[0], 2)}\"\n",
    "for i in range(1, len(coefficients)):\n",
    "    equation += f\" + {round(coefficients[i], 6)}*x{i}\"\n",
    "print(equation)"
   ]
  },
  {
   "cell_type": "code",
   "execution_count": 24,
   "id": "18bbff17",
   "metadata": {},
   "outputs": [
    {
     "name": "stdout",
     "output_type": "stream",
     "text": [
      "8191.46\n",
      "8381.25\n",
      "56\n",
      "58.0\n",
      "1.0\n",
      "12.0\n",
      "26.8506\n"
     ]
    }
   ],
   "source": [
    "# Print the first values of selected columns\n",
    "print(subset_data['MPCE_MRP'].head(1).values[0])\n",
    "print(subset_data['MPCE_URP'].head(1).values[0])\n",
    "print(subset_data['Age'].head(1).values[0])\n",
    "print(subset_data['Meals_At_Home'].head(1).values[0])\n",
    "print(subset_data['Possess_ration_card'].head(1).values[0])\n",
    "print(subset_data['Education'].head(1).values[0])\n",
    "print(subset_data['foodtotal_q'].head(1).values[0])"
   ]
  },
  {
   "cell_type": "code",
   "execution_count": null,
   "id": "4554df54",
   "metadata": {},
   "outputs": [],
   "source": []
  }
 ],
 "metadata": {
  "kernelspec": {
   "display_name": "Python 3 (ipykernel)",
   "language": "python",
   "name": "python3"
  },
  "language_info": {
   "codemirror_mode": {
    "name": "ipython",
    "version": 3
   },
   "file_extension": ".py",
   "mimetype": "text/x-python",
   "name": "python",
   "nbconvert_exporter": "python",
   "pygments_lexer": "ipython3",
   "version": "3.11.5"
  }
 },
 "nbformat": 4,
 "nbformat_minor": 5
}
